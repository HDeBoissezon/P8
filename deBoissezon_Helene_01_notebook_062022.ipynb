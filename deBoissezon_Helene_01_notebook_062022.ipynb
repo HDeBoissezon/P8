{
 "cells": [
  {
   "cell_type": "code",
   "execution_count": 1,
   "id": "7fa474d3",
   "metadata": {},
   "outputs": [],
   "source": [
    "# librairies système\n",
    "import os\n",
    "import sys\n",
    "import time\n",
    "import io\n",
    "from io import StringIO\n",
    "import logging\n",
    "from botocore.exceptions import ClientError\n",
    "\n",
    "os.environ['PYSPARK_PYTHON'] = sys.executable\n",
    "os.environ['PYSPARK_DRIVER_PYTHON'] = sys.executable\n",
    "os.environ['TF_CPP_MIN_LOG_LEVEL'] = '3'\n",
    "\n",
    "if not sys.warnoptions:\n",
    "    import warnings\n",
    "    warnings.simplefilter(\"ignore\")"
   ]
  },
  {
   "cell_type": "code",
   "execution_count": 2,
   "id": "faef3047",
   "metadata": {},
   "outputs": [],
   "source": [
    "# imports pyspark\n",
    "from pyspark import SparkContext, SparkConf\n",
    "from pyspark.sql import SparkSession\n",
    "from pyspark.ml.image import ImageSchema\n",
    "from pyspark.sql.functions import input_file_name\n",
    "from pyspark.sql.types import *\n",
    "from pyspark.sql.functions import col\n",
    "from pyspark.sql.functions import pandas_udf, PandasUDFType\n",
    "from pyspark.ml.feature import PCA\n",
    "from pyspark.ml.linalg import Vectors\n",
    "from pyspark.ml.linalg import VectorUDT\n",
    "from pyspark.sql.functions import udf\n",
    "from pyspark.ml.feature import StandardScaler\n",
    "\n",
    "# import librairies générales\n",
    "import pyarrow\n",
    "from PIL import Image\n",
    "import numpy as np\n",
    "import cv2\n",
    "import pandas as pd\n",
    "from matplotlib.image import imread\n",
    "import matplotlib.pyplot as plt\n",
    "import boto3"
   ]
  },
  {
   "cell_type": "code",
   "execution_count": 3,
   "id": "16757964",
   "metadata": {},
   "outputs": [],
   "source": [
    "# import tensorflow\n",
    "from tensorflow.keras.applications.vgg16 import VGG16\n",
    "from tensorflow.keras.applications.vgg16 import preprocess_input\n",
    "from tensorflow.keras.preprocessing.image import img_to_array\n",
    "import tensorflow as tf\n",
    "\n",
    "# pour éviter des warnings de tf liés à la trace du .predict\n",
    "tf.compat.v1.disable_eager_execution()"
   ]
  },
  {
   "cell_type": "markdown",
   "id": "27e7afd4",
   "metadata": {},
   "source": [
    "# 1. Initialisation de la session spark"
   ]
  },
  {
   "cell_type": "code",
   "execution_count": 4,
   "id": "55e2f1bd",
   "metadata": {},
   "outputs": [
    {
     "name": "stderr",
     "output_type": "stream",
     "text": [
      "Setting default log level to \"WARN\".\n",
      "To adjust logging level use sc.setLogLevel(newLevel). For SparkR, use setLogLevel(newLevel).\n"
     ]
    },
    {
     "name": "stdout",
     "output_type": "stream",
     "text": [
      "22/07/12 09:25:16 WARN NativeCodeLoader: Unable to load native-hadoop library for your platform... using builtin-java classes where applicable\n"
     ]
    }
   ],
   "source": [
    "spark = SparkSession.builder.master('local[*]').appName('P8').getOrCreate()\n",
    "spark.sparkContext.setLogLevel(\"ERROR\")\n",
    "sc = spark.sparkContext"
   ]
  },
  {
   "cell_type": "code",
   "execution_count": 5,
   "id": "de0bf6d2",
   "metadata": {},
   "outputs": [
    {
     "data": {
      "text/html": [
       "\n",
       "        <div>\n",
       "            <p><b>SparkContext</b></p>\n",
       "\n",
       "            <p><a href=\"http://ip-172-31-46-138.eu-west-3.compute.internal:4040\">Spark UI</a></p>\n",
       "\n",
       "            <dl>\n",
       "              <dt>Version</dt>\n",
       "                <dd><code>v3.3.0</code></dd>\n",
       "              <dt>Master</dt>\n",
       "                <dd><code>local[*]</code></dd>\n",
       "              <dt>AppName</dt>\n",
       "                <dd><code>P8</code></dd>\n",
       "            </dl>\n",
       "        </div>\n",
       "        "
      ],
      "text/plain": [
       "<SparkContext master=local[*] appName=P8>"
      ]
     },
     "execution_count": 5,
     "metadata": {},
     "output_type": "execute_result"
    }
   ],
   "source": [
    "sc"
   ]
  },
  {
   "cell_type": "markdown",
   "id": "ad71b9df",
   "metadata": {},
   "source": [
    "# 2. Accès à S3\n",
    "## 2.1 via boto3"
   ]
  },
  {
   "cell_type": "code",
   "execution_count": 6,
   "id": "4608bf2a",
   "metadata": {},
   "outputs": [
    {
     "name": "stdout",
     "output_type": "stream",
     "text": [
      "p8datahdb\n"
     ]
    }
   ],
   "source": [
    "# Get resources stored in AWS S3 service\n",
    "s3_ressources = boto3.resource('s3')\n",
    "\n",
    "# Print all existing buckets names (only one in this case)\n",
    "for bucket in s3_ressources.buckets.all():\n",
    "    print(bucket.name)"
   ]
  },
  {
   "cell_type": "code",
   "execution_count": 7,
   "id": "850e000e",
   "metadata": {},
   "outputs": [
    {
     "name": "stdout",
     "output_type": "stream",
     "text": [
      "Avocado small_dataset/Avocado/0_100.jpg\n",
      "Avocado small_dataset/Avocado/1_100.jpg\n",
      "Carambula small_dataset/Carambula/0_100.jpg\n"
     ]
    }
   ],
   "source": [
    "# Affichage des 3 premiers fichiers présents dans le bucket\n",
    "fruits_bucket = s3_ressources.Bucket('p8datahdb')\n",
    "for file in fruits_bucket.objects.limit(3):\n",
    "    label = file.key.split('/')[-2]\n",
    "    print(label, file.key)"
   ]
  },
  {
   "cell_type": "code",
   "execution_count": 8,
   "id": "b29d09b6",
   "metadata": {},
   "outputs": [
    {
     "name": "stdout",
     "output_type": "stream",
     "text": [
      "s3a://p8datahdb/small_dataset/\n"
     ]
    }
   ],
   "source": [
    "bucket_name = \"p8datahdb\"\n",
    "path_img = \"s3a://\" + bucket_name + \"/small_dataset/\"\n",
    "print(path_img)"
   ]
  },
  {
   "cell_type": "markdown",
   "id": "41aae376",
   "metadata": {},
   "source": [
    "## 2.2 Via spark directement"
   ]
  },
  {
   "cell_type": "code",
   "execution_count": 9,
   "id": "5a36bc0b",
   "metadata": {},
   "outputs": [
    {
     "name": "stdout",
     "output_type": "stream",
     "text": [
      "root\n",
      " |-- path: string (nullable = true)\n",
      " |-- modificationTime: timestamp (nullable = true)\n",
      " |-- length: long (nullable = true)\n",
      " |-- content: binary (nullable = true)\n",
      "\n"
     ]
    },
    {
     "name": "stderr",
     "output_type": "stream",
     "text": [
      "\r\n",
      "[Stage 0:>                                                          (0 + 1) / 1]\r\n",
      "\r\n",
      "                                                                                \r"
     ]
    },
    {
     "name": "stdout",
     "output_type": "stream",
     "text": [
      "+--------------------+-------------------+------+--------------------+\n",
      "|                path|   modificationTime|length|             content|\n",
      "+--------------------+-------------------+------+--------------------+\n",
      "|s3a://p8datahdb/s...|2022-07-12 09:21:43|  5667|[FF D8 FF E0 00 1...|\n",
      "|s3a://p8datahdb/s...|2022-07-12 09:21:43|  5634|[FF D8 FF E0 00 1...|\n",
      "|s3a://p8datahdb/s...|2022-07-12 09:21:42|  4768|[FF D8 FF E0 00 1...|\n",
      "|s3a://p8datahdb/s...|2022-07-12 09:21:41|  4756|[FF D8 FF E0 00 1...|\n",
      "|s3a://p8datahdb/s...|2022-07-12 09:21:41|  4260|[FF D8 FF E0 00 1...|\n",
      "+--------------------+-------------------+------+--------------------+\n",
      "only showing top 5 rows\n",
      "\n"
     ]
    }
   ],
   "source": [
    "# chargement des images disponibles dans le bucket\n",
    "image_2 = spark.read.format(\"binaryFile\") \\\n",
    "  .option(\"pathGlobFilter\", \"*.jpg\") \\\n",
    "  .option(\"recursiveFileLookup\", \"true\") \\\n",
    "  .load(path_img)\n",
    "image_2.printSchema()\n",
    "image_2.show(5)"
   ]
  },
  {
   "cell_type": "markdown",
   "id": "ce48e31a",
   "metadata": {},
   "source": [
    "# 3. Feature extraction\n",
    "Utilisation du CNN VGG16 pré-entrainé sur ImageNet et sans les couches Fully-Connected pour calculer les features des images "
   ]
  },
  {
   "cell_type": "markdown",
   "id": "1780efe9",
   "metadata": {},
   "source": [
    "## 3.1 Chargement du réseau de neurones"
   ]
  },
  {
   "cell_type": "code",
   "execution_count": 10,
   "id": "a19609c4",
   "metadata": {},
   "outputs": [
    {
     "name": "stdout",
     "output_type": "stream",
     "text": [
      "Model: \"vgg16\"\n",
      "_________________________________________________________________\n",
      " Layer (type)                Output Shape              Param #   \n",
      "=================================================================\n",
      " input_1 (InputLayer)        [(None, None, None, 3)]   0         \n",
      "                                                                 \n",
      " block1_conv1 (Conv2D)       (None, None, None, 64)    1792      \n",
      "                                                                 \n",
      " block1_conv2 (Conv2D)       (None, None, None, 64)    36928     \n",
      "                                                                 \n",
      " block1_pool (MaxPooling2D)  (None, None, None, 64)    0         \n",
      "                                                                 \n",
      " block2_conv1 (Conv2D)       (None, None, None, 128)   73856     \n",
      "                                                                 \n",
      " block2_conv2 (Conv2D)       (None, None, None, 128)   147584    \n",
      "                                                                 \n",
      " block2_pool (MaxPooling2D)  (None, None, None, 128)   0         \n",
      "                                                                 \n",
      " block3_conv1 (Conv2D)       (None, None, None, 256)   295168    \n",
      "                                                                 \n",
      " block3_conv2 (Conv2D)       (None, None, None, 256)   590080    \n",
      "                                                                 \n",
      " block3_conv3 (Conv2D)       (None, None, None, 256)   590080    \n",
      "                                                                 \n",
      " block3_pool (MaxPooling2D)  (None, None, None, 256)   0         \n",
      "                                                                 \n",
      " block4_conv1 (Conv2D)       (None, None, None, 512)   1180160   \n",
      "                                                                 \n",
      " block4_conv2 (Conv2D)       (None, None, None, 512)   2359808   \n",
      "                                                                 \n",
      " block4_conv3 (Conv2D)       (None, None, None, 512)   2359808   \n",
      "                                                                 \n",
      " block4_pool (MaxPooling2D)  (None, None, None, 512)   0         \n",
      "                                                                 \n",
      " block5_conv1 (Conv2D)       (None, None, None, 512)   2359808   \n",
      "                                                                 \n",
      " block5_conv2 (Conv2D)       (None, None, None, 512)   2359808   \n",
      "                                                                 \n",
      " block5_conv3 (Conv2D)       (None, None, None, 512)   2359808   \n",
      "                                                                 \n",
      " block5_pool (MaxPooling2D)  (None, None, None, 512)   0         \n",
      "                                                                 \n",
      " global_average_pooling2d (G  (None, 512)              0         \n",
      " lobalAveragePooling2D)                                          \n",
      "                                                                 \n",
      "=================================================================\n",
      "Total params: 14,714,688\n",
      "Trainable params: 14,714,688\n",
      "Non-trainable params: 0\n",
      "_________________________________________________________________\n"
     ]
    }
   ],
   "source": [
    "model_vgg = VGG16(include_top=False, weights='imagenet', pooling='avg')\n",
    "model_vgg.summary()"
   ]
  },
  {
   "cell_type": "markdown",
   "id": "11f8e7da",
   "metadata": {},
   "source": [
    "## 3.2 Définition des étapes de préprocessing et feature extraction"
   ]
  },
  {
   "cell_type": "code",
   "execution_count": 11,
   "id": "70b22a0c",
   "metadata": {},
   "outputs": [],
   "source": [
    "def bytes_to_array(bytes_str):\n",
    "    \"\"\"Transforme une liste de bits en matrice RGB d'une image 100x100px\"\"\"\n",
    "    # arr: Transformation de la suite de bits en matrice \n",
    "    arr = np.frombuffer(bytes_str, dtype=np.uint8)\n",
    "    # arr: Transformation de la matrice au format RGB\n",
    "    arr = cv2.imdecode(arr, cv2.IMREAD_COLOR)\n",
    "    arr = arr.astype(np.float32)  # cast en flottant\n",
    "    return arr\n",
    "\n",
    "\n",
    "def feature_extraction(model, content_series):\n",
    "    # conversion du fichier binaire en tableau\n",
    "    img = content_series.map(bytes_to_array)\n",
    "    img = np.array(img.to_list(), ndmin=4)\n",
    "    # preparation des images adaptée au CNN\n",
    "    img_preproc = preprocess_input(img)\n",
    "    # calcul des features\n",
    "    preds = model(img_preproc).numpy()\n",
    "    # Mise à plat des features\n",
    "    preds = pd.Series([preds.flatten() for pred in preds])\n",
    "    return preds\n",
    "\n",
    "\n",
    "@pandas_udf('array<float>', PandasUDFType.SCALAR_ITER)\n",
    "def UDF_feature_extraction(content_series_iter):\n",
    "    model = VGG16(include_top=False, weights='imagenet', pooling='avg')\n",
    "    for content_series in content_series_iter:\n",
    "        yield feature_extraction(model, content_series)"
   ]
  },
  {
   "cell_type": "code",
   "execution_count": 12,
   "id": "4e46d9bb",
   "metadata": {},
   "outputs": [
    {
     "name": "stderr",
     "output_type": "stream",
     "text": [
      "                                                                                \r"
     ]
    },
    {
     "name": "stdout",
     "output_type": "stream",
     "text": [
      "+--------------------+-------------------------------+\n",
      "|                path|UDF_feature_extraction(content)|\n",
      "+--------------------+-------------------------------+\n",
      "|s3a://p8datahdb/s...|           [0.0, 0.0, 0.0, 0...|\n",
      "|s3a://p8datahdb/s...|           [0.0, 0.0, 0.0, 0...|\n",
      "|s3a://p8datahdb/s...|           [0.0, 0.0, 0.0, 0...|\n",
      "|s3a://p8datahdb/s...|           [10.527054, 0.0, ...|\n",
      "|s3a://p8datahdb/s...|           [10.527054, 0.0, ...|\n",
      "+--------------------+-------------------------------+\n",
      "only showing top 5 rows\n",
      "\n",
      "root\n",
      " |-- path: string (nullable = true)\n",
      " |-- UDF_feature_extraction(content): array (nullable = true)\n",
      " |    |-- element: float (containsNull = true)\n",
      "\n"
     ]
    }
   ],
   "source": [
    "# calcul des features pour toutes les images disponibles et creation d'un nouveau dataframe spark\n",
    "# qui regroupe le chemin vers l'image traitée et les features calculées\n",
    "features_df = image_2.select(col(\"path\"), UDF_feature_extraction(\"content\"))\n",
    "\n",
    "features_df.show(5)\n",
    "features_df.printSchema()"
   ]
  },
  {
   "cell_type": "markdown",
   "id": "fc2f680c",
   "metadata": {},
   "source": [
    "# 4. Réduction de dimension\n",
    "La dimension des features créées est dépendante du CNN choisit. Afin de vérifier cette dimension, la featurisation est appliquées sur une image"
   ]
  },
  {
   "cell_type": "code",
   "execution_count": 13,
   "id": "538f40cb",
   "metadata": {},
   "outputs": [
    {
     "name": "stdout",
     "output_type": "stream",
     "text": [
      "La feature extraction génère 512 features par image\n"
     ]
    },
    {
     "data": {
      "image/png": "[encoded data removed]",
      "text/plain": [
       "<Figure size 432x288 with 1 Axes>"
      ]
     },
     "metadata": {
      "needs_background": "light"
     },
     "output_type": "display_data"
    }
   ],
   "source": [
    "# test_file: Fichier de l'image d'exemple\n",
    "test_file = 'small_dataset/Avocado/0_100.jpg'\n",
    "\n",
    "# image: Contenu du fichier de l'image d'exemple\n",
    "s3_client = boto3.client(\"s3\")\n",
    "load = s3_client.get_object(Bucket=bucket_name, Key=test_file)\n",
    "image = imread(load['Body'], format='jpg')\n",
    "plt.imshow(image)\n",
    "# preprocessing\n",
    "image = img_to_array(image)\n",
    "# redimensionnement des données pour le modèle\n",
    "image = image.reshape((1, image.shape[0], image.shape[1], image.shape[2]))\n",
    "# preparation des imagespour le modèle VGG\n",
    "img_preproc = preprocess_input(image)\n",
    "# extraction des features\n",
    "img_features = model_vgg.predict(img_preproc)\n",
    "\n",
    "print(\"La feature extraction génère {} features par image\".format(img_features.shape[1]))"
   ]
  },
  {
   "cell_type": "code",
   "execution_count": 14,
   "id": "0dfa052e",
   "metadata": {},
   "outputs": [
    {
     "name": "stderr",
     "output_type": "stream",
     "text": [
      "[Stage 5:>                                                          (0 + 1) / 1]\r"
     ]
    },
    {
     "name": "stdout",
     "output_type": "stream",
     "text": [
      "+--------------------+-------------------------+\n",
      "|                path|feature_extraction_vector|\n",
      "+--------------------+-------------------------+\n",
      "|s3a://p8datahdb/s...|     [0.0,0.0,0.0,0.0,...|\n",
      "|s3a://p8datahdb/s...|     [0.0,0.0,0.0,0.0,...|\n",
      "|s3a://p8datahdb/s...|     [0.0,0.0,0.0,0.0,...|\n",
      "|s3a://p8datahdb/s...|     [10.5270538330078...|\n",
      "|s3a://p8datahdb/s...|     [10.5270538330078...|\n",
      "+--------------------+-------------------------+\n",
      "only showing top 5 rows\n",
      "\n",
      "root\n",
      " |-- path: string (nullable = true)\n",
      " |-- feature_extraction_vector: vector (nullable = true)\n",
      "\n"
     ]
    },
    {
     "name": "stderr",
     "output_type": "stream",
     "text": [
      "\r\n",
      "                                                                                \r"
     ]
    }
   ],
   "source": [
    "# conversion du tableau de features en vecteur pour le calcul de l'ACP\n",
    "array_to_vector_UDF = udf(lambda arr: Vectors.dense(arr), VectorUDT())\n",
    "features_df_w_vectors = features_df.select(\n",
    "    features_df[\"path\"],\n",
    "    array_to_vector_UDF(features_df[\"UDF_feature_extraction(content)\"]).alias(\"feature_extraction_vector\")\n",
    ")\n",
    "features_df_w_vectors.show(5)\n",
    "features_df_w_vectors.printSchema()"
   ]
  },
  {
   "cell_type": "code",
   "execution_count": 15,
   "id": "7621193b",
   "metadata": {
    "scrolled": false
   },
   "outputs": [
    {
     "name": "stderr",
     "output_type": "stream",
     "text": [
      "                                                                                \r"
     ]
    }
   ],
   "source": [
    "# calcul de l'ACP\n",
    "# k=5 est choisi arbitrairement\n",
    "pca = PCA(k=5, inputCol=\"feature_extraction_vector\", outputCol=\"feature_pca\")\n",
    "model_pca = pca.fit(features_df_w_vectors)"
   ]
  },
  {
   "cell_type": "code",
   "execution_count": 16,
   "id": "c7967d06",
   "metadata": {},
   "outputs": [
    {
     "name": "stderr",
     "output_type": "stream",
     "text": [
      "                                                                                \r"
     ]
    },
    {
     "name": "stdout",
     "output_type": "stream",
     "text": [
      "+--------------------+-------------------------+--------------------+\n",
      "|                path|feature_extraction_vector|         feature_pca|\n",
      "+--------------------+-------------------------+--------------------+\n",
      "|s3a://p8datahdb/s...|     [0.0,0.0,0.0,0.0,...|[281.527269080335...|\n",
      "|s3a://p8datahdb/s...|     [0.0,0.0,0.0,0.0,...|[281.527269080335...|\n",
      "|s3a://p8datahdb/s...|     [0.0,0.0,0.0,0.0,...|[281.527269080335...|\n",
      "|s3a://p8datahdb/s...|     [10.5270538330078...|[-63.207901983217...|\n",
      "|s3a://p8datahdb/s...|     [10.5270538330078...|[-63.207901983217...|\n",
      "+--------------------+-------------------------+--------------------+\n",
      "only showing top 5 rows\n",
      "\n",
      "root\n",
      " |-- path: string (nullable = true)\n",
      " |-- feature_extraction_vector: vector (nullable = true)\n",
      " |-- feature_pca: vector (nullable = true)\n",
      "\n"
     ]
    },
    {
     "name": "stderr",
     "output_type": "stream",
     "text": [
      "\r\n",
      "[Stage 13:>                                                         (0 + 1) / 1]\r\n",
      "\r\n",
      "                                                                                \r"
     ]
    }
   ],
   "source": [
    "# transformation des données\n",
    "transformed_feature = model_pca.transform(features_df_w_vectors)\n",
    "transformed_feature.show(5)\n",
    "transformed_feature.printSchema()"
   ]
  },
  {
   "cell_type": "code",
   "execution_count": 17,
   "id": "40b1477d",
   "metadata": {},
   "outputs": [],
   "source": [
    "# Transformation des vecteurs en Array\n",
    "vector_to_array_udf = udf(lambda v: v.toArray().tolist(), ArrayType(FloatType()))"
   ]
  },
  {
   "cell_type": "code",
   "execution_count": 18,
   "id": "84eaa7e4",
   "metadata": {},
   "outputs": [],
   "source": [
    "df_img = transformed_feature.withColumn('pca_array', vector_to_array_udf('feature_pca'))"
   ]
  },
  {
   "cell_type": "code",
   "execution_count": 19,
   "id": "6ad1e5f8",
   "metadata": {},
   "outputs": [
    {
     "name": "stderr",
     "output_type": "stream",
     "text": [
      "[Stage 15:>                                                         (0 + 1) / 1]\r"
     ]
    },
    {
     "name": "stdout",
     "output_type": "stream",
     "text": [
      "+--------------------+-------------------------+--------------------+--------------------+\n",
      "|                path|feature_extraction_vector|         feature_pca|           pca_array|\n",
      "+--------------------+-------------------------+--------------------+--------------------+\n",
      "|s3a://p8datahdb/s...|     [0.0,0.0,0.0,0.0,...|[281.527269080335...|[281.52728, 15.29...|\n",
      "|s3a://p8datahdb/s...|     [0.0,0.0,0.0,0.0,...|[281.527269080335...|[281.52728, 15.29...|\n",
      "|s3a://p8datahdb/s...|     [0.0,0.0,0.0,0.0,...|[281.527269080335...|[281.52728, 15.29...|\n",
      "|s3a://p8datahdb/s...|     [10.5270538330078...|[-63.207901983217...|[-63.2079, 15.298...|\n",
      "|s3a://p8datahdb/s...|     [10.5270538330078...|[-63.207901983217...|[-63.2079, 15.298...|\n",
      "+--------------------+-------------------------+--------------------+--------------------+\n",
      "only showing top 5 rows\n",
      "\n",
      "root\n",
      " |-- path: string (nullable = true)\n",
      " |-- feature_extraction_vector: vector (nullable = true)\n",
      " |-- feature_pca: vector (nullable = true)\n",
      " |-- pca_array: array (nullable = true)\n",
      " |    |-- element: float (containsNull = true)\n",
      "\n"
     ]
    },
    {
     "name": "stderr",
     "output_type": "stream",
     "text": [
      "\r\n",
      "                                                                                \r"
     ]
    }
   ],
   "source": [
    "df_img.show(5)\n",
    "df_img.printSchema()"
   ]
  },
  {
   "cell_type": "code",
   "execution_count": 20,
   "id": "e0611b42",
   "metadata": {},
   "outputs": [
    {
     "name": "stderr",
     "output_type": "stream",
     "text": [
      "                                                                                \r"
     ]
    },
    {
     "data": {
      "text/html": [
       "<div>\n",
       "<style scoped>\n",
       "    .dataframe tbody tr th:only-of-type {\n",
       "        vertical-align: middle;\n",
       "    }\n",
       "\n",
       "    .dataframe tbody tr th {\n",
       "        vertical-align: top;\n",
       "    }\n",
       "\n",
       "    .dataframe thead th {\n",
       "        text-align: right;\n",
       "    }\n",
       "</style>\n",
       "<table border=\"1\" class=\"dataframe\">\n",
       "  <thead>\n",
       "    <tr style=\"text-align: right;\">\n",
       "      <th></th>\n",
       "      <th>path</th>\n",
       "      <th>feature_extraction_vector</th>\n",
       "      <th>feature_pca</th>\n",
       "      <th>pca_array</th>\n",
       "    </tr>\n",
       "  </thead>\n",
       "  <tbody>\n",
       "    <tr>\n",
       "      <th>0</th>\n",
       "      <td>s3a://p8datahdb/small_dataset/Strawberry/1_100...</td>\n",
       "      <td>[0.0, 0.0, 0.0, 0.0, 0.4779968857765198, 0.243...</td>\n",
       "      <td>[281.52726908033566, 15.298253900730908, 1.498...</td>\n",
       "      <td>[281.52728271484375, 15.298254013061523, 1.498...</td>\n",
       "    </tr>\n",
       "    <tr>\n",
       "      <th>1</th>\n",
       "      <td>s3a://p8datahdb/small_dataset/Strawberry/0_100...</td>\n",
       "      <td>[0.0, 0.0, 0.0, 0.0, 0.4779968857765198, 0.243...</td>\n",
       "      <td>[281.52726908033566, 15.298253900730908, 1.498...</td>\n",
       "      <td>[281.52728271484375, 15.298254013061523, 1.498...</td>\n",
       "    </tr>\n",
       "    <tr>\n",
       "      <th>2</th>\n",
       "      <td>s3a://p8datahdb/small_dataset/Carambula/1_100.jpg</td>\n",
       "      <td>[0.0, 0.0, 0.0, 0.0, 0.4779968857765198, 0.243...</td>\n",
       "      <td>[281.52726908033566, 15.298253900730908, 1.498...</td>\n",
       "      <td>[281.52728271484375, 15.298254013061523, 1.498...</td>\n",
       "    </tr>\n",
       "    <tr>\n",
       "      <th>3</th>\n",
       "      <td>s3a://p8datahdb/small_dataset/Carambula/0_100.jpg</td>\n",
       "      <td>[10.527053833007812, 0.0, 2.137017011642456, 0...</td>\n",
       "      <td>[-63.207901983217035, 15.29825390073049, 1.498...</td>\n",
       "      <td>[-63.20790100097656, 15.298254013061523, 1.498...</td>\n",
       "    </tr>\n",
       "    <tr>\n",
       "      <th>4</th>\n",
       "      <td>s3a://p8datahdb/small_dataset/Avocado/1_100.jpg</td>\n",
       "      <td>[10.527053833007812, 0.0, 2.137017011642456, 0...</td>\n",
       "      <td>[-63.207901983217035, 15.29825390073049, 1.498...</td>\n",
       "      <td>[-63.20790100097656, 15.298254013061523, 1.498...</td>\n",
       "    </tr>\n",
       "    <tr>\n",
       "      <th>5</th>\n",
       "      <td>s3a://p8datahdb/small_dataset/Avocado/0_100.jpg</td>\n",
       "      <td>[10.527053833007812, 0.0, 2.137017011642456, 0...</td>\n",
       "      <td>[-63.207901983217035, 15.29825390073049, 1.498...</td>\n",
       "      <td>[-63.20790100097656, 15.298254013061523, 1.498...</td>\n",
       "    </tr>\n",
       "  </tbody>\n",
       "</table>\n",
       "</div>"
      ],
      "text/plain": [
       "                                                path  \\\n",
       "0  s3a://p8datahdb/small_dataset/Strawberry/1_100...   \n",
       "1  s3a://p8datahdb/small_dataset/Strawberry/0_100...   \n",
       "2  s3a://p8datahdb/small_dataset/Carambula/1_100.jpg   \n",
       "3  s3a://p8datahdb/small_dataset/Carambula/0_100.jpg   \n",
       "4    s3a://p8datahdb/small_dataset/Avocado/1_100.jpg   \n",
       "5    s3a://p8datahdb/small_dataset/Avocado/0_100.jpg   \n",
       "\n",
       "                           feature_extraction_vector  \\\n",
       "0  [0.0, 0.0, 0.0, 0.0, 0.4779968857765198, 0.243...   \n",
       "1  [0.0, 0.0, 0.0, 0.0, 0.4779968857765198, 0.243...   \n",
       "2  [0.0, 0.0, 0.0, 0.0, 0.4779968857765198, 0.243...   \n",
       "3  [10.527053833007812, 0.0, 2.137017011642456, 0...   \n",
       "4  [10.527053833007812, 0.0, 2.137017011642456, 0...   \n",
       "5  [10.527053833007812, 0.0, 2.137017011642456, 0...   \n",
       "\n",
       "                                         feature_pca  \\\n",
       "0  [281.52726908033566, 15.298253900730908, 1.498...   \n",
       "1  [281.52726908033566, 15.298253900730908, 1.498...   \n",
       "2  [281.52726908033566, 15.298253900730908, 1.498...   \n",
       "3  [-63.207901983217035, 15.29825390073049, 1.498...   \n",
       "4  [-63.207901983217035, 15.29825390073049, 1.498...   \n",
       "5  [-63.207901983217035, 15.29825390073049, 1.498...   \n",
       "\n",
       "                                           pca_array  \n",
       "0  [281.52728271484375, 15.298254013061523, 1.498...  \n",
       "1  [281.52728271484375, 15.298254013061523, 1.498...  \n",
       "2  [281.52728271484375, 15.298254013061523, 1.498...  \n",
       "3  [-63.20790100097656, 15.298254013061523, 1.498...  \n",
       "4  [-63.20790100097656, 15.298254013061523, 1.498...  \n",
       "5  [-63.20790100097656, 15.298254013061523, 1.498...  "
      ]
     },
     "execution_count": 20,
     "metadata": {},
     "output_type": "execute_result"
    }
   ],
   "source": [
    "# Transformation du dataframe spark en dataframe pandas\n",
    "results_df = df_img.toPandas()\n",
    "results_df"
   ]
  },
  {
   "cell_type": "markdown",
   "id": "f3156ae0",
   "metadata": {},
   "source": [
    "# Stockage des résultats sur S3"
   ]
  },
  {
   "cell_type": "code",
   "execution_count": 21,
   "id": "744ae879",
   "metadata": {},
   "outputs": [],
   "source": [
    "def create_bucket(bucket_name, region=\"eu-west-3\"):\n",
    "    \"\"\"Creation d'un bucket dans la région spécifiée\n",
    "\n",
    "    Si la région n'est pas précisée, le bucket sera créé dans la région \n",
    "    par défaut (us-east-1).\n",
    "\n",
    "    :param bucket_name: String. Bucket à créer\n",
    "    :param region: String. Région dans laquelle créer le bucket\n",
    "    :return: True si le bucket est créé, False sinon\n",
    "    \"\"\"\n",
    "\n",
    "    # création du bucket\n",
    "    try:\n",
    "        if region is None:\n",
    "            s3_client = boto3.client('s3')\n",
    "            s3_client.create_bucket(Bucket=bucket_name)\n",
    "        else:\n",
    "            s3_client = boto3.client('s3', region_name=region)\n",
    "            location = {'LocationConstraint': region}\n",
    "            s3_client.create_bucket(Bucket=bucket_name,\n",
    "                                    CreateBucketConfiguration=location)\n",
    "        # configuration du bucket pour qu'il soit non accessible au public\n",
    "        response_public = s3_client.put_public_access_block(Bucket=bucket_name,\n",
    "                                                            PublicAccessBlockConfiguration={\n",
    "                                                                'BlockPublicAcls': True,\n",
    "                                                                'IgnorePublicAcls': True,\n",
    "                                                                'BlockPublicPolicy': True,\n",
    "                                                                'RestrictPublicBuckets': True\n",
    "                                                            }\n",
    "                                                           )\n",
    "    except ClientError as e:\n",
    "        logging.error(e)\n",
    "        return False\n",
    "    return True"
   ]
  },
  {
   "cell_type": "code",
   "execution_count": 22,
   "id": "6404b4b7",
   "metadata": {},
   "outputs": [
    {
     "name": "stdout",
     "output_type": "stream",
     "text": [
      "Création du bucket p8donneestraitees\n"
     ]
    }
   ],
   "source": [
    "#verifie si le bucket des données traitées existe déjà, si ce n'est pas le cas => création du bucket\n",
    "bucket_donnees_traitees = 'p8donneestraitees'\n",
    "besoin_creation_bucket = True\n",
    "\n",
    "for bucket in s3_ressources.buckets.all():\n",
    "    if bucket.name == bucket_donnees_traitees:\n",
    "        besoin_creation_bucket = False\n",
    "if besoin_creation_bucket:\n",
    "    print('Création du bucket {}'.format(bucket_donnees_traitees))\n",
    "    create_bucket(bucket_donnees_traitees)\n",
    "else:\n",
    "    print('Bucket déjà existant')"
   ]
  },
  {
   "cell_type": "code",
   "execution_count": 23,
   "id": "fd9324e8",
   "metadata": {},
   "outputs": [],
   "source": [
    "# Stockage des résultats sur le bucket S3\n",
    "csv_buffer = StringIO()\n",
    "results_df.to_csv(csv_buffer)\n",
    "response = s3_client.put_object(\n",
    "    Body=csv_buffer.getvalue(),\n",
    "    Bucket=bucket_donnees_traitees,\n",
    "    Key='Feature_extraction/results.csv')"
   ]
  },
  {
   "cell_type": "code",
   "execution_count": 24,
   "id": "662c9a53",
   "metadata": {},
   "outputs": [
    {
     "name": "stdout",
     "output_type": "stream",
     "text": [
      "small_dataset/Avocado/0_100.jpg déplacé vers p8donneestraitees\n",
      "small_dataset/Avocado/1_100.jpg déplacé vers p8donneestraitees\n",
      "small_dataset/Carambula/0_100.jpg déplacé vers p8donneestraitees\n",
      "small_dataset/Carambula/1_100.jpg déplacé vers p8donneestraitees\n",
      "small_dataset/Strawberry/0_100.jpg déplacé vers p8donneestraitees\n",
      "small_dataset/Strawberry/1_100.jpg déplacé vers p8donneestraitees\n"
     ]
    }
   ],
   "source": [
    "# Déplacement des images traitées depuis le bucket initial vers le bucket p8donneestraitees\n",
    "bucket_source = s3_ressources.Bucket('p8datahdb')\n",
    "bucket_destination = s3_ressources.Bucket('p8donneestraitees')\n",
    "\n",
    "for file in bucket_source.objects.all():\n",
    "    source_copie = {\n",
    "        'Bucket': 'p8datahdb',\n",
    "        'Key': file.key\n",
    "    }\n",
    "    bucket_destination.copy(source_copie, file.key)\n",
    "    file.delete()\n",
    "    print(file.key, 'déplacé vers p8donneestraitees')"
   ]
  },
  {
   "cell_type": "code",
   "execution_count": 25,
   "id": "4353ca5d",
   "metadata": {},
   "outputs": [],
   "source": [
    "sc.stop()"
   ]
  }
 ],
 "metadata": {
  "kernelspec": {
   "display_name": "Python 3 (ipykernel)",
   "language": "python",
   "name": "python3"
  },
  "language_info": {
   "codemirror_mode": {
    "name": "ipython",
    "version": 3
   },
   "file_extension": ".py",
   "mimetype": "text/x-python",
   "name": "python",
   "nbconvert_exporter": "python",
   "pygments_lexer": "ipython3",
   "version": "3.8.5"
  }
 },
 "nbformat": 4,
 "nbformat_minor": 5
}
